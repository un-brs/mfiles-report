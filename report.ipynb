{
 "metadata": {
  "name": "",
  "signature": "sha256:8a8bf26941bf10b8487b2c579268cf56d5f994fd4383cc702d7bb46c297c3756"
 },
 "nbformat": 3,
 "nbformat_minor": 0,
 "worksheets": [
  {
   "cells": [
    {
     "cell_type": "code",
     "collapsed": false,
     "input": [
      "from win32com.client import gencache\n",
      "mfiles = gencache.EnsureModule('{B9C079AA-92DD-4FB4-A0E0-AA3198955B45}', 0, 1, 0)"
     ],
     "language": "python",
     "metadata": {},
     "outputs": [],
     "prompt_number": 1
    },
    {
     "cell_type": "code",
     "collapsed": false,
     "input": [
      "server = mfiles.MFilesServerApplication()"
     ],
     "language": "python",
     "metadata": {},
     "outputs": [],
     "prompt_number": 2
    },
    {
     "cell_type": "code",
     "collapsed": false,
     "input": [
      "import config as private\n",
      "server.Connect(AuthType=mfiles.constants.MFAuthTypeSpecificMFilesUser, UserName=private.MFILES_USERNAME,Password=private.MFILES_PASSWORD, NetworkAddress=private.MFILES_NETWORKADDRESS,Endpoint=\"2266\")"
     ],
     "language": "python",
     "metadata": {},
     "outputs": [
      {
       "metadata": {},
       "output_type": "pyout",
       "prompt_number": 8,
       "text": [
        "1"
       ]
      }
     ],
     "prompt_number": 8
    },
    {
     "cell_type": "code",
     "collapsed": false,
     "input": [
      "server_vaults = server.GetVaults()\n",
      "for vault in server_vaults:\n",
      "    print(vault.Name)"
     ],
     "language": "python",
     "metadata": {},
     "outputs": [
      {
       "output_type": "stream",
       "stream": "stdout",
       "text": [
        "Stockholm Production\n",
        "Rotterdam\n",
        "Basel\n"
       ]
      }
     ],
     "prompt_number": 4
    },
    {
     "cell_type": "code",
     "collapsed": false,
     "input": [
      "first = server_vaults.Item(1).LogIn()"
     ],
     "language": "python",
     "metadata": {},
     "outputs": [],
     "prompt_number": 5
    },
    {
     "cell_type": "raw",
     "metadata": {},
     "source": [
      "first.GetGUID()"
     ]
    },
    {
     "cell_type": "code",
     "collapsed": false,
     "input": [
      "for svault in server_vaults:\n",
      "    vault = svault.LogIn()\n",
      "    print(\"*\" * 80)\n",
      "    print(svault.Name)\n",
      "    for cl in first.ClassOperations.GetAllObjectClasses():\n",
      "        print(\" \" * 4 + cl.Name)\n",
      "        for prop_id in cl.AssociatedPropertyDefs:\n",
      "            prop = vault.PropertyDefOperations.GetPropertyDef(prop_id.PropertyDef)\n",
      "            print(\" \" * 8 + str(prop.Name))"
     ],
     "language": "python",
     "metadata": {},
     "outputs": [
      {
       "output_type": "stream",
       "stream": "stdout",
       "text": [
        "********************************************************************************\n",
        "Stockholm Production\n",
        "    Acknowledments"
       ]
      },
      {
       "output_type": "stream",
       "stream": "stdout",
       "text": [
        "\n",
        "        Additional classes\n",
        "        Name or title\n",
        "        UN-number"
       ]
      },
      {
       "output_type": "stream",
       "stream": "stdout",
       "text": [
        "\n",
        "        Player\n",
        "        Date of correspondence"
       ]
      },
      {
       "output_type": "stream",
       "stream": "stdout",
       "text": [
        "\n",
        "        Programme/Subject Matter\n",
        "        Document Status\n",
        "        Language"
       ]
      },
      {
       "output_type": "stream",
       "stream": "stdout",
       "text": [
        "\n",
        "        Comments\n",
        "        Related to document (ID)"
       ]
      },
      {
       "output_type": "stream",
       "stream": "stdout",
       "text": [
        "\n",
        "        Created\n",
        "        Created by\n",
        "        Last modified"
       ]
      },
      {
       "output_type": "stream",
       "stream": "stdout",
       "text": [
        "\n",
        "        Last modified by\n",
        "        Status changed"
       ]
      },
      {
       "output_type": "stream",
       "stream": "stdout",
       "text": [
        "\n",
        "        Object changed\n",
        "        Single file\n",
        "        Class groups"
       ]
      },
      {
       "output_type": "stream",
       "stream": "stdout",
       "text": [
        "\n",
        "        Size on server (this version)\n",
        "        Size on server (all versions)\n",
        "        Marked for archiving"
       ]
      },
      {
       "output_type": "stream",
       "stream": "stdout",
       "text": [
        "\n",
        "    Action plans, Business plans, Strategic plans\n",
        "        Additional classes\n",
        "        Name or title"
       ]
      },
      {
       "output_type": "stream",
       "stream": "stdout",
       "text": [
        "\n",
        "        UN-number\n",
        "        Title\n",
        "        Description"
       ]
      },
      {
       "output_type": "stream",
       "stream": "stdout",
       "text": [
        "\n",
        "        Short description (in English)\n",
        "        Player"
       ]
      },
      {
       "output_type": "stream",
       "stream": "stdout",
       "text": [
        "\n",
        "        Language\n",
        "        Programme/Subject Matter\n",
        "        Document Status"
       ]
      },
      {
       "output_type": "stream",
       "stream": "stdout",
       "text": [
        "\n",
        "        Web Published\n",
        "        Created"
       ]
      },
      {
       "output_type": "stream",
       "stream": "stdout",
       "text": [
        "\n",
        "        Created by\n",
        "        Last modified"
       ]
      },
      {
       "output_type": "stream",
       "stream": "stdout",
       "text": [
        "\n",
        "        Last modified by\n",
        "        Status changed\n",
        "        Object changed"
       ]
      },
      {
       "output_type": "stream",
       "stream": "stdout",
       "text": [
        "\n",
        "        Single file\n",
        "        Class groups\n",
        "        Size on server (this version)"
       ]
      },
      {
       "output_type": "stream",
       "stream": "stdout",
       "text": [
        "\n",
        "        Size on server (all versions)\n",
        "        Marked for archiving"
       ]
      },
      {
       "output_type": "stream",
       "stream": "stdout",
       "text": [
        "\n",
        "    Agendas, Calendars and Timetables\n",
        "        Additional classes\n",
        "        Name or title\n",
        "        UN-number"
       ]
      },
      {
       "output_type": "stream",
       "stream": "stdout",
       "text": [
        "\n",
        "        Title\n",
        "        Description"
       ]
      },
      {
       "output_type": "stream",
       "stream": "stdout",
       "text": [
        "\n",
        "        Language\n",
        "        Meeting Acronym\n",
        "        Programme/Subject Matter"
       ]
      },
      {
       "output_type": "stream",
       "stream": "stdout",
       "text": [
        "\n",
        "        Web Published\n",
        "        Created\n",
        "        Created by"
       ]
      },
      {
       "output_type": "stream",
       "stream": "stdout",
       "text": [
        "\n",
        "        Last modified\n",
        "        Last modified by"
       ]
      },
      {
       "output_type": "stream",
       "stream": "stdout",
       "text": [
        "\n",
        "        Status changed\n",
        "        Object changed"
       ]
      },
      {
       "output_type": "stream",
       "stream": "stdout",
       "text": [
        "\n",
        "        Single file\n",
        "        Class groups\n",
        "        Size on server (this version)"
       ]
      },
      {
       "output_type": "stream",
       "stream": "stdout",
       "text": [
        "\n",
        "        Size on server (all versions)\n",
        "        Marked for archiving"
       ]
      },
      {
       "output_type": "stream",
       "stream": "stdout",
       "text": [
        "\n",
        "    Assignment\n",
        "        Name or title\n",
        "        Assignment description\n",
        "        Assigned to"
       ]
      },
      {
       "output_type": "stream",
       "stream": "stdout",
       "text": [
        "\n",
        "        Marked as complete by\n",
        "        Deadline"
       ]
      },
      {
       "output_type": "stream",
       "stream": "stdout",
       "text": [
        "\n",
        "        Monitored by\n",
        "        Created\n",
        "        Created by"
       ]
      },
      {
       "output_type": "stream",
       "stream": "stdout",
       "text": [
        "\n",
        "        Last modified\n",
        "        Last modified by\n",
        "        Status changed"
       ]
      },
      {
       "output_type": "stream",
       "stream": "stdout",
       "text": [
        "\n",
        "        Object changed\n",
        "        Single file"
       ]
      },
      {
       "output_type": "stream",
       "stream": "stdout",
       "text": [
        "\n",
        "        Class groups\n",
        "        Size on server (this version)\n",
        "        Size on server (all versions)"
       ]
      },
      {
       "output_type": "stream",
       "stream": "stdout",
       "text": [
        "\n",
        "        Marked for archiving\n",
        "    Best Practices\n",
        "        Additional classes\n"
       ]
      },
      {
       "output_type": "stream",
       "stream": "stdout",
       "text": [
        "        Name or title\n",
        "        UN-number\n",
        "        Title"
       ]
      },
      {
       "output_type": "stream",
       "stream": "stdout",
       "text": [
        "\n",
        "        Description\n",
        "        Short description (in English)\n",
        "        Language"
       ]
      },
      {
       "output_type": "stream",
       "stream": "stdout",
       "text": [
        "\n",
        "        Player\n",
        "        Programme/Subject Matter"
       ]
      },
      {
       "output_type": "stream",
       "stream": "stdout",
       "text": [
        "\n",
        "        Chemical\n",
        "        Keyphrases\n",
        "        Web Published"
       ]
      },
      {
       "output_type": "stream",
       "stream": "stdout",
       "text": [
        "\n",
        "        Target Audience\n",
        "        Created\n",
        "        Created by"
       ]
      },
      {
       "output_type": "stream",
       "stream": "stdout",
       "text": [
        "\n",
        "        Last modified\n",
        "        Last modified by"
       ]
      },
      {
       "output_type": "stream",
       "stream": "stdout",
       "text": [
        "\n",
        "        Status changed\n",
        "        Object changed\n",
        "        Single file"
       ]
      },
      {
       "output_type": "stream",
       "stream": "stdout",
       "text": [
        "\n",
        "        Class groups\n",
        "        Size on server (this version)\n",
        "        Size on server (all versions)"
       ]
      },
      {
       "output_type": "stream",
       "stream": "stdout",
       "text": [
        "\n",
        "        Marked for archiving\n",
        "    Case Studies\n",
        "        Additional classes"
       ]
      },
      {
       "output_type": "stream",
       "stream": "stdout",
       "text": [
        "\n",
        "        Title\n",
        "        Description\n",
        "        Language"
       ]
      },
      {
       "output_type": "stream",
       "stream": "stdout",
       "text": [
        "\n",
        "        Name or title\n",
        "        UN-number\n",
        "        Programme/Subject Matter"
       ]
      },
      {
       "output_type": "stream",
       "stream": "stdout",
       "text": [
        "\n",
        "        Meeting Acronym\n",
        "        Web Published"
       ]
      },
      {
       "output_type": "stream",
       "stream": "stdout",
       "text": [
        "\n",
        "        Created\n",
        "        Created by\n",
        "        Last modified"
       ]
      },
      {
       "output_type": "stream",
       "stream": "stdout",
       "text": [
        "\n",
        "        Last modified by\n",
        "        Status changed\n",
        "        Object changed"
       ]
      },
      {
       "output_type": "stream",
       "stream": "stdout",
       "text": [
        "\n",
        "        Single file\n",
        "        Class groups\n",
        "        Size on server (this version)"
       ]
      },
      {
       "output_type": "stream",
       "stream": "stdout",
       "text": [
        "\n",
        "        Size on server (all versions)\n",
        "        Marked for archiving"
       ]
      },
      {
       "output_type": "stream",
       "stream": "stdout",
       "text": [
        "\n",
        "    Certifications\n",
        "        Additional classes\n",
        "        Name or title\n",
        "        UN-number"
       ]
      },
      {
       "output_type": "stream",
       "stream": "stdout",
       "text": [
        "\n",
        "        Title\n",
        "        Description\n",
        "        Player"
       ]
      },
      {
       "output_type": "stream",
       "stream": "stdout",
       "text": [
        "\n",
        "        TransmissionDate\n",
        "        Programme/Subject Matter\n",
        "        Document Status"
       ]
      },
      {
       "output_type": "stream",
       "stream": "stdout",
       "text": [
        "\n",
        "        Language\n",
        "        Web Published"
       ]
      },
      {
       "output_type": "stream",
       "stream": "stdout",
       "text": [
        "\n",
        "        Comments\n",
        "        Related to document (ID)\n",
        "        Created"
       ]
      },
      {
       "output_type": "stream",
       "stream": "stdout",
       "text": [
        "\n",
        "        Created by\n",
        "        Last modified\n",
        "        Last modified by"
       ]
      },
      {
       "output_type": "stream",
       "stream": "stdout",
       "text": [
        "\n",
        "        Status changed\n",
        "        Object changed\n",
        "        Single file"
       ]
      },
      {
       "output_type": "stream",
       "stream": "stdout",
       "text": [
        "\n",
        "        Class groups\n",
        "        Size on server (this version)"
       ]
      },
      {
       "output_type": "stream",
       "stream": "stdout",
       "text": [
        "\n",
        "        Size on server (all versions)\n",
        "        Marked for archiving\n",
        "    Communications\n",
        "        Additional classes"
       ]
      },
      {
       "output_type": "stream",
       "stream": "stdout",
       "text": [
        "\n",
        "        Name or title\n",
        "        UN-number\n",
        "        Title"
       ]
      },
      {
       "output_type": "stream",
       "stream": "stdout",
       "text": [
        "\n",
        "        Description\n",
        "        Player"
       ]
      },
      {
       "output_type": "stream",
       "stream": "stdout",
       "text": [
        "\n",
        "        Programme/Subject Matter\n",
        "        Language"
       ]
      },
      {
       "output_type": "stream",
       "stream": "stdout",
       "text": [
        "\n",
        "        Document Status\n",
        "        Date of correspondence\n",
        "        Web Published"
       ]
      },
      {
       "output_type": "stream",
       "stream": "stdout",
       "text": [
        "\n",
        "        Related to document (ID)\n",
        "        Comments\n",
        "        Created"
       ]
      },
      {
       "output_type": "stream",
       "stream": "stdout",
       "text": [
        "\n",
        "        Created by\n",
        "        Last modified\n",
        "        Last modified by"
       ]
      },
      {
       "output_type": "stream",
       "stream": "stdout",
       "text": [
        "\n",
        "        Status changed\n",
        "        Object changed"
       ]
      },
      {
       "output_type": "stream",
       "stream": "stdout",
       "text": [
        "\n",
        "        Single file\n",
        "        Class groups\n",
        "        Size on server (this version)"
       ]
      },
      {
       "output_type": "stream",
       "stream": "stdout",
       "text": [
        "\n",
        "        Size on server (all versions)\n",
        "        Marked for archiving"
       ]
      },
      {
       "output_type": "stream",
       "stream": "stdout",
       "text": [
        "\n",
        "    Compilations\n",
        "        Additional classes\n",
        "        Name or title\n",
        "        UN-number"
       ]
      },
      {
       "output_type": "stream",
       "stream": "stdout",
       "text": [
        "\n",
        "        Title\n",
        "        Description\n",
        "        Short description (in English)"
       ]
      },
      {
       "output_type": "stream",
       "stream": "stdout",
       "text": [
        "\n",
        "        Language\n",
        "        Programme/Subject Matter"
       ]
      },
      {
       "output_type": "stream",
       "stream": "stdout",
       "text": [
        "\n",
        "        Web Published\n",
        "        Chemical\n",
        "        Keyphrases"
       ]
      },
      {
       "output_type": "stream",
       "stream": "stdout",
       "text": [
        "\n",
        "        Chemical Profile\n",
        "        Created"
       ]
      },
      {
       "output_type": "stream",
       "stream": "stdout",
       "text": [
        "\n",
        "        Created by\n",
        "        Last modified"
       ]
      },
      {
       "output_type": "stream",
       "stream": "stdout",
       "text": [
        "\n",
        "        Last modified by\n",
        "        Status changed\n",
        "        Object changed"
       ]
      },
      {
       "output_type": "stream",
       "stream": "stdout",
       "text": [
        "\n",
        "        Single file\n",
        "        Class groups"
       ]
      },
      {
       "output_type": "stream",
       "stream": "stdout",
       "text": [
        "\n",
        "        Size on server (this version)\n",
        "        Size on server (all versions)\n",
        "        Marked for archiving"
       ]
      },
      {
       "output_type": "stream",
       "stream": "stdout",
       "text": [
        "\n",
        "    Concept Notes, White Papers\n",
        "        Additional classes\n",
        "        Name or title"
       ]
      },
      {
       "output_type": "stream",
       "stream": "stdout",
       "text": [
        "\n",
        "        UN-number\n",
        "        Title\n",
        "        Description"
       ]
      },
      {
       "output_type": "stream",
       "stream": "stdout",
       "text": [
        "\n",
        "        Short description (in English)\n",
        "        Language"
       ]
      },
      {
       "output_type": "stream",
       "stream": "stdout",
       "text": [
        "\n",
        "        Programme/Subject Matter\n",
        "        Player\n",
        "        Keyphrases"
       ]
      },
      {
       "output_type": "stream",
       "stream": "stdout",
       "text": [
        "\n",
        "        Traditional folder\n",
        "        Web Published"
       ]
      },
      {
       "output_type": "stream",
       "stream": "stdout",
       "text": [
        "\n",
        "        Created\n",
        "        Created by\n",
        "        Last modified"
       ]
      },
      {
       "output_type": "stream",
       "stream": "stdout",
       "text": [
        "\n",
        "        Last modified by\n",
        "        Status changed"
       ]
      },
      {
       "output_type": "stream",
       "stream": "stdout",
       "text": [
        "\n",
        "        Object changed\n",
        "        Single file\n",
        "        Class groups"
       ]
      },
      {
       "output_type": "stream",
       "stream": "stdout",
       "text": [
        "\n",
        "        Size on server (this version)\n",
        "        Size on server (all versions)"
       ]
      },
      {
       "output_type": "stream",
       "stream": "stdout",
       "text": [
        "\n",
        "        Marked for archiving\n",
        "    CRPs\n",
        "        Additional classes"
       ]
      },
      {
       "output_type": "stream",
       "stream": "stdout",
       "text": [
        "\n",
        "        Name or title\n",
        "        UN-number\n",
        "        Title"
       ]
      },
      {
       "output_type": "stream",
       "stream": "stdout",
       "text": [
        "\n",
        "        Description\n",
        "        Language"
       ]
      },
      {
       "output_type": "stream",
       "stream": "stdout",
       "text": [
        "\n",
        "        Meeting Acronym\n",
        "        Programme/Subject Matter\n",
        "        Web Published"
       ]
      },
      {
       "output_type": "stream",
       "stream": "stdout",
       "text": [
        "\n",
        "        Created\n",
        "        Created by"
       ]
      },
      {
       "output_type": "stream",
       "stream": "stdout",
       "text": [
        "\n",
        "        Last modified\n",
        "        Last modified by\n",
        "        Status changed"
       ]
      },
      {
       "output_type": "stream",
       "stream": "stdout",
       "text": [
        "\n",
        "        Object changed\n",
        "        Single file\n",
        "        Class groups"
       ]
      },
      {
       "output_type": "stream",
       "stream": "stdout",
       "text": [
        "\n",
        "        Size on server (this version)\n",
        "        Size on server (all versions)"
       ]
      },
      {
       "output_type": "stream",
       "stream": "stdout",
       "text": [
        "\n",
        "        Marked for archiving\n",
        "    Data, Statistics and Inventories\n",
        "        Additional classes\n",
        "        Name or title"
       ]
      },
      {
       "output_type": "stream",
       "stream": "stdout",
       "text": [
        "\n",
        "        UN-number\n",
        "        Title\n",
        "        Description"
       ]
      },
      {
       "output_type": "stream",
       "stream": "stdout",
       "text": [
        "\n",
        "        Short description (in English)\n",
        "        Language"
       ]
      },
      {
       "output_type": "stream",
       "stream": "stdout",
       "text": [
        "\n",
        "        Player\n",
        "        Programme/Subject Matter\n",
        "        Chemical"
       ]
      },
      {
       "output_type": "stream",
       "stream": "stdout",
       "text": [
        "\n",
        "        Web Published\n",
        "        Keyphrases"
       ]
      },
      {
       "output_type": "stream",
       "stream": "stdout",
       "text": [
        "\n",
        "        Created\n",
        "        Created by\n",
        "        Last modified"
       ]
      },
      {
       "output_type": "stream",
       "stream": "stdout",
       "text": [
        "\n",
        "        Last modified by\n",
        "        Status changed\n",
        "        Object changed"
       ]
      },
      {
       "output_type": "stream",
       "stream": "stdout",
       "text": [
        "\n",
        "        Single file\n",
        "        Class groups"
       ]
      },
      {
       "output_type": "stream",
       "stream": "stdout",
       "text": [
        "\n",
        "        Size on server (this version)\n",
        "        Size on server (all versions)\n",
        "        Marked for archiving"
       ]
      },
      {
       "output_type": "stream",
       "stream": "stdout",
       "text": [
        "\n",
        "    Decisions\n",
        "        Additional classes\n",
        "        Name or title\n",
        "        UN-number"
       ]
      },
      {
       "output_type": "stream",
       "stream": "stdout",
       "text": [
        "\n",
        "        Title\n",
        "        Short description (in English)"
       ]
      },
      {
       "output_type": "stream",
       "stream": "stdout",
       "text": [
        "\n",
        "        Description\n",
        "        Language\n",
        "        Meeting Acronym"
       ]
      },
      {
       "output_type": "stream",
       "stream": "stdout",
       "text": [
        "\n",
        "        Programme/Subject Matter\n",
        "        Web Published"
       ]
      },
      {
       "output_type": "stream",
       "stream": "stdout",
       "text": [
        "\n",
        "        Document Status\n",
        "        Chemical\n",
        "        Player"
       ]
      },
      {
       "output_type": "stream",
       "stream": "stdout",
       "text": [
        "\n",
        "        Created\n",
        "        Created by\n",
        "        Last modified"
       ]
      },
      {
       "output_type": "stream",
       "stream": "stdout",
       "text": [
        "\n",
        "        Last modified by\n",
        "        Status changed"
       ]
      },
      {
       "output_type": "stream",
       "stream": "stdout",
       "text": [
        "\n",
        "        Object changed\n",
        "        Single file\n",
        "        Class groups"
       ]
      },
      {
       "output_type": "stream",
       "stream": "stdout",
       "text": [
        "\n",
        "        Size on server (this version)\n",
        "        Size on server (all versions)\n",
        "        Marked for archiving"
       ]
      },
      {
       "output_type": "stream",
       "stream": "stdout",
       "text": [
        "\n",
        "    Evaluations and Assessments\n",
        "        Additional classes\n",
        "        Name or title"
       ]
      },
      {
       "output_type": "stream",
       "stream": "stdout",
       "text": [
        "\n",
        "        UN-number\n",
        "        Title\n",
        "        Description"
       ]
      },
      {
       "output_type": "stream",
       "stream": "stdout",
       "text": [
        "\n",
        "        Short description (in English)\n",
        "        Abstract/Summary\n",
        "        Language"
       ]
      },
      {
       "output_type": "stream",
       "stream": "stdout",
       "text": [
        "\n",
        "        Programme/Subject Matter\n",
        "        Chemical"
       ]
      },
      {
       "output_type": "stream",
       "stream": "stdout",
       "text": [
        "\n",
        "        Chemical Profile\n",
        "        Keyphrases\n",
        "        Web Published"
       ]
      },
      {
       "output_type": "stream",
       "stream": "stdout",
       "text": [
        "\n",
        "        Document Status\n",
        "        Corporate Author\n",
        "        Created"
       ]
      },
      {
       "output_type": "stream",
       "stream": "stdout",
       "text": [
        "\n",
        "        Created by\n",
        "        Last modified"
       ]
      },
      {
       "output_type": "stream",
       "stream": "stdout",
       "text": [
        "\n",
        "        Last modified by\n",
        "        Status changed\n",
        "        Object changed"
       ]
      },
      {
       "output_type": "stream",
       "stream": "stdout",
       "text": [
        "\n",
        "        Single file\n",
        "        Class groups\n",
        "        Size on server (this version)"
       ]
      },
      {
       "output_type": "stream",
       "stream": "stdout",
       "text": [
        "\n",
        "        Size on server (all versions)\n",
        "        Marked for archiving"
       ]
      },
      {
       "output_type": "stream",
       "stream": "stdout",
       "text": [
        "\n",
        "    Excerpts\n",
        "        Additional classes\n",
        "        Name or title\n",
        "        Title"
       ]
      },
      {
       "output_type": "stream",
       "stream": "stdout",
       "text": [
        "\n",
        "        UN-number\n",
        "        Description"
       ]
      },
      {
       "output_type": "stream",
       "stream": "stdout",
       "text": [
        "\n",
        "        Programme/Subject Matter\n",
        "        Meeting Acronym\n",
        "        Language"
       ]
      },
      {
       "output_type": "stream",
       "stream": "stdout",
       "text": [
        "\n",
        "        Traditional folder\n",
        "        Web Published"
       ]
      },
      {
       "output_type": "stream",
       "stream": "stdout",
       "text": [
        "\n",
        "        Created\n",
        "        Created by\n",
        "        Last modified"
       ]
      },
      {
       "output_type": "stream",
       "stream": "stdout",
       "text": [
        "\n",
        "        Last modified by\n",
        "        Status changed\n",
        "        Object changed"
       ]
      },
      {
       "output_type": "stream",
       "stream": "stdout",
       "text": [
        "\n",
        "        Single file\n",
        "        Class groups"
       ]
      },
      {
       "output_type": "stream",
       "stream": "stdout",
       "text": [
        "\n",
        "        Size on server (this version)\n",
        "        Size on server (all versions)\n",
        "        Marked for archiving"
       ]
      },
      {
       "output_type": "stream",
       "stream": "stdout",
       "text": [
        "\n",
        "    Factsheets\n",
        "        Additional classes\n",
        "        Name or title"
       ]
      },
      {
       "output_type": "stream",
       "stream": "stdout",
       "text": [
        "\n",
        "        UN-number\n",
        "        Title\n",
        "        Description"
       ]
      },
      {
       "output_type": "stream",
       "stream": "stdout",
       "text": [
        "\n",
        "        Short description (in English)\n",
        "        Language\n",
        "        Programme/Subject Matter"
       ]
      },
      {
       "output_type": "stream",
       "stream": "stdout",
       "text": [
        "\n",
        "        Web Published\n",
        "        Created"
       ]
      },
      {
       "output_type": "stream",
       "stream": "stdout",
       "text": [
        "\n",
        "        Created by\n",
        "        Last modified"
       ]
      },
      {
       "output_type": "stream",
       "stream": "stdout",
       "text": [
        "\n",
        "        Last modified by\n",
        "        Status changed\n",
        "        Object changed"
       ]
      },
      {
       "output_type": "stream",
       "stream": "stdout",
       "text": [
        "\n",
        "        Single file\n",
        "        Class groups"
       ]
      },
      {
       "output_type": "stream",
       "stream": "stdout",
       "text": [
        "\n",
        "        Size on server (this version)\n",
        "        Size on server (all versions)\n",
        "        Marked for archiving"
       ]
      },
      {
       "output_type": "stream",
       "stream": "stdout",
       "text": [
        "\n",
        "    Forms, Templates and Questionnaires\n",
        "        Additional classes\n",
        "        Name or title\n",
        "        UN-number"
       ]
      },
      {
       "output_type": "stream",
       "stream": "stdout",
       "text": [
        "\n",
        "        Title\n",
        "        Description"
       ]
      },
      {
       "output_type": "stream",
       "stream": "stdout",
       "text": [
        "\n",
        "        Meeting Acronym\n",
        "        Language"
       ]
      },
      {
       "output_type": "stream",
       "stream": "stdout",
       "text": [
        "\n",
        "        Programme/Subject Matter\n",
        "        Web Published\n",
        "        Created"
       ]
      },
      {
       "output_type": "stream",
       "stream": "stdout",
       "text": [
        "\n",
        "        Created by\n",
        "        Last modified"
       ]
      },
      {
       "output_type": "stream",
       "stream": "stdout",
       "text": [
        "\n",
        "        Last modified by\n",
        "        Status changed"
       ]
      },
      {
       "output_type": "stream",
       "stream": "stdout",
       "text": [
        "\n",
        "        Object changed\n",
        "        Single file\n",
        "        Class groups"
       ]
      },
      {
       "output_type": "stream",
       "stream": "stdout",
       "text": [
        "\n",
        "        Size on server (this version)\n",
        "        Size on server (all versions)"
       ]
      },
      {
       "output_type": "stream",
       "stream": "stdout",
       "text": [
        "\n",
        "        Marked for archiving\n",
        "    Guidance and Guidelines\n",
        "        Additional classes\n",
        "        Name or title"
       ]
      },
      {
       "output_type": "stream",
       "stream": "stdout",
       "text": [
        "\n",
        "        UN-number\n",
        "        Title"
       ]
      },
      {
       "output_type": "stream",
       "stream": "stdout",
       "text": [
        "\n",
        "        Description\n",
        "        Short description (in English)\n",
        "        Language"
       ]
      },
      {
       "output_type": "stream",
       "stream": "stdout",
       "text": [
        "\n",
        "        Programme/Subject Matter\n",
        "        Chemical\n",
        "        Corporate Author"
       ]
      },
      {
       "output_type": "stream",
       "stream": "stdout",
       "text": [
        "\n",
        "        Meeting Acronym\n",
        "        Web Published"
       ]
      },
      {
       "output_type": "stream",
       "stream": "stdout",
       "text": [
        "\n",
        "        Document Status\n",
        "        Keyphrases\n",
        "        PublicationDate-Year"
       ]
      },
      {
       "output_type": "stream",
       "stream": "stdout",
       "text": [
        "\n",
        "        PublicationDate-Month\n",
        "        PublicationDateDisplay\n",
        "        Chemical Profile"
       ]
      },
      {
       "output_type": "stream",
       "stream": "stdout",
       "text": [
        "\n",
        "        Created\n",
        "        Created by"
       ]
      },
      {
       "output_type": "stream",
       "stream": "stdout",
       "text": [
        "\n",
        "        Last modified\n",
        "        Last modified by\n",
        "        Status changed"
       ]
      },
      {
       "output_type": "stream",
       "stream": "stdout",
       "text": [
        "\n",
        "        Object changed\n",
        "        Single file"
       ]
      },
      {
       "output_type": "stream",
       "stream": "stdout",
       "text": [
        "\n",
        "        Class groups\n",
        "        Size on server (this version)\n",
        "        Size on server (all versions)"
       ]
      },
      {
       "output_type": "stream",
       "stream": "stdout",
       "text": [
        "\n",
        "        Marked for archiving\n",
        "    Handbooks, Manuals and Toolkits\n",
        "        Additional classes"
       ]
      },
      {
       "output_type": "stream",
       "stream": "stdout",
       "text": [
        "\n",
        "        Title\n",
        "        Name or title\n",
        "        UN-number"
       ]
      },
      {
       "output_type": "stream",
       "stream": "stdout",
       "text": [
        "\n",
        "        Short description (in English)\n",
        "        Description\n",
        "        Programme/Subject Matter"
       ]
      },
      {
       "output_type": "stream",
       "stream": "stdout",
       "text": [
        "\n",
        "        Language\n",
        "        PublicationDate-Year"
       ]
      },
      {
       "output_type": "stream",
       "stream": "stdout",
       "text": [
        "\n",
        "        PublicationDate-Month\n",
        "        Corporate Author\n",
        "        Document Status"
       ]
      },
      {
       "output_type": "stream",
       "stream": "stdout",
       "text": [
        "\n",
        "        Web Published\n",
        "        Target Audience"
       ]
      },
      {
       "output_type": "stream",
       "stream": "stdout",
       "text": [
        "\n",
        "        Chemical\n",
        "        Keyphrases\n",
        "        Keywords"
       ]
      },
      {
       "output_type": "stream",
       "stream": "stdout",
       "text": [
        "\n",
        "        PublicationDateDisplay\n",
        "        Created\n",
        "        Created by"
       ]
      },
      {
       "output_type": "stream",
       "stream": "stdout",
       "text": [
        "\n",
        "        Last modified\n",
        "        Last modified by"
       ]
      },
      {
       "output_type": "stream",
       "stream": "stdout",
       "text": [
        "\n",
        "        Status changed\n",
        "        Object changed\n",
        "        Single file"
       ]
      },
      {
       "output_type": "stream",
       "stream": "stdout",
       "text": [
        "\n",
        "        Class groups\n",
        "        Size on server (this version)\n",
        "        Size on server (all versions)"
       ]
      },
      {
       "output_type": "stream",
       "stream": "stdout",
       "text": [
        "\n",
        "        Marked for archiving\n",
        "    Implementation Plans\n",
        "        Additional classes"
       ]
      },
      {
       "output_type": "stream",
       "stream": "stdout",
       "text": [
        "\n",
        "        Name or title\n",
        "        UN-number\n",
        "        Title"
       ]
      },
      {
       "output_type": "stream",
       "stream": "stdout",
       "text": [
        "\n",
        "        Description\n",
        "        Short description (in English)"
       ]
      },
      {
       "output_type": "stream",
       "stream": "stdout",
       "text": [
        "\n",
        "        Language\n",
        "        Player\n",
        "        Programme/Subject Matter"
       ]
      },
      {
       "output_type": "stream",
       "stream": "stdout",
       "text": [
        "\n",
        "        Document Status\n",
        "        Web Published\n",
        "        Traditional folder"
       ]
      },
      {
       "output_type": "stream",
       "stream": "stdout",
       "text": [
        "\n",
        "        Created\n",
        "        Created by"
       ]
      },
      {
       "output_type": "stream",
       "stream": "stdout",
       "text": [
        "\n",
        "        Last modified\n",
        "        Last modified by\n",
        "        Status changed"
       ]
      },
      {
       "output_type": "stream",
       "stream": "stdout",
       "text": [
        "\n",
        "        Object changed\n",
        "        Single file\n",
        "        Class groups"
       ]
      },
      {
       "output_type": "stream",
       "stream": "stdout",
       "text": [
        "\n",
        "        Size on server (this version)\n",
        "        Size on server (all versions)\n",
        "        Marked for archiving"
       ]
      },
      {
       "output_type": "stream",
       "stream": "stdout",
       "text": [
        "\n",
        "    Information Documents\n",
        "        Additional classes\n",
        "        Name or title\n",
        "        UN-number"
       ]
      },
      {
       "output_type": "stream",
       "stream": "stdout",
       "text": [
        "\n",
        "        Title\n",
        "        Description"
       ]
      },
      {
       "output_type": "stream",
       "stream": "stdout",
       "text": [
        "\n",
        "        Language\n",
        "        Meeting Acronym\n",
        "        Programme/Subject Matter"
       ]
      },
      {
       "output_type": "stream",
       "stream": "stdout",
       "text": [
        "\n",
        "        Web Published\n",
        "        Traditional folder\n",
        "        Created"
       ]
      },
      {
       "output_type": "stream",
       "stream": "stdout",
       "text": [
        "\n",
        "        Created by\n",
        "        Last modified"
       ]
      },
      {
       "output_type": "stream",
       "stream": "stdout",
       "text": [
        "\n",
        "        Last modified by\n",
        "        Status changed\n",
        "        Object changed"
       ]
      },
      {
       "output_type": "stream",
       "stream": "stdout",
       "text": [
        "\n",
        "        Single file\n",
        "        Class groups\n",
        "        Size on server (this version)"
       ]
      },
      {
       "output_type": "stream",
       "stream": "stdout",
       "text": [
        "\n",
        "        Size on server (all versions)\n",
        "        Marked for archiving"
       ]
      },
      {
       "output_type": "stream",
       "stream": "stdout",
       "text": [
        "\n",
        "    Institutions' Profiles\n",
        "        Additional classes\n",
        "        Name or title\n",
        "        UN-number"
       ]
      },
      {
       "output_type": "stream",
       "stream": "stdout",
       "text": [
        "\n",
        "        Title\n",
        "        Description"
       ]
      },
      {
       "output_type": "stream",
       "stream": "stdout",
       "text": [
        "\n",
        "        Short description (in English)\n",
        "        Language\n",
        "        Programme/Subject Matter"
       ]
      },
      {
       "output_type": "stream",
       "stream": "stdout",
       "text": [
        "\n",
        "        Player\n",
        "        Region"
       ]
      },
      {
       "output_type": "stream",
       "stream": "stdout",
       "text": [
        "\n",
        "        Web Published\n",
        "        Traditional folder\n",
        "        Document Status"
       ]
      },
      {
       "output_type": "stream",
       "stream": "stdout",
       "text": [
        "\n",
        "        Created\n",
        "        Created by"
       ]
      },
      {
       "output_type": "stream",
       "stream": "stdout",
       "text": [
        "\n",
        "        Last modified\n",
        "        Last modified by\n",
        "        Status changed"
       ]
      },
      {
       "output_type": "stream",
       "stream": "stdout",
       "text": [
        "\n",
        "        Object changed\n",
        "        Single file"
       ]
      },
      {
       "output_type": "stream",
       "stream": "stdout",
       "text": [
        "\n",
        "        Class groups\n",
        "        Size on server (this version)\n",
        "        Size on server (all versions)"
       ]
      },
      {
       "output_type": "stream",
       "stream": "stdout",
       "text": [
        "\n",
        "        Marked for archiving\n",
        "    Journals and Magazines\n",
        "        Additional classes\n",
        "        Title"
       ]
      },
      {
       "output_type": "stream",
       "stream": "stdout",
       "text": [
        "\n",
        "        Name or title\n",
        "        UN-number"
       ]
      },
      {
       "output_type": "stream",
       "stream": "stdout",
       "text": [
        "\n",
        "        Publication Symbol\n",
        "        Programme/Subject Matter\n",
        "        Language"
       ]
      },
      {
       "output_type": "stream",
       "stream": "stdout",
       "text": [
        "\n",
        "        Keywords\n",
        "        Keyphrases\n",
        "        PublicationDate-Year"
       ]
      },
      {
       "output_type": "stream",
       "stream": "stdout",
       "text": [
        "\n",
        "        PublicationDate-Month\n",
        "        Web Published"
       ]
      },
      {
       "output_type": "stream",
       "stream": "stdout",
       "text": [
        "\n",
        "        Document Status\n",
        "        Description"
       ]
      },
      {
       "output_type": "stream",
       "stream": "stdout",
       "text": [
        "\n",
        "        Short description (in English)\n",
        "        Abstract/Summary\n",
        "        PublicationDateDisplay"
       ]
      },
      {
       "output_type": "stream",
       "stream": "stdout",
       "text": [
        "\n",
        "        Section/Volume/Number\n",
        "        SectionVolNum-TITLE\n",
        "        Article-Title"
       ]
      },
      {
       "output_type": "stream",
       "stream": "stdout",
       "text": [
        "\n",
        "        Publisher\n",
        "        Corporate Author"
       ]
      },
      {
       "output_type": "stream",
       "stream": "stdout",
       "text": [
        "\n",
        "        Author(s)\n",
        "        Pages (from - to)\n",
        "        Target Audience"
       ]
      },
      {
       "output_type": "stream",
       "stream": "stdout",
       "text": [
        "\n",
        "        Created\n",
        "        Created by\n",
        "        Last modified"
       ]
      },
      {
       "output_type": "stream",
       "stream": "stdout",
       "text": [
        "\n",
        "        Last modified by\n",
        "        Status changed"
       ]
      },
      {
       "output_type": "stream",
       "stream": "stdout",
       "text": [
        "\n",
        "        Object changed\n",
        "        Single file\n",
        "        Class groups"
       ]
      },
      {
       "output_type": "stream",
       "stream": "stdout",
       "text": [
        "\n",
        "        Size on server (this version)\n",
        "        Size on server (all versions)"
       ]
      },
      {
       "output_type": "stream",
       "stream": "stdout",
       "text": [
        "\n",
        "        Marked for archiving\n",
        "    Lists Participants/Members\n",
        "        Additional classes"
       ]
      },
      {
       "output_type": "stream",
       "stream": "stdout",
       "text": [
        "\n",
        "        UN-number\n",
        "        Title\n",
        "        Description"
       ]
      },
      {
       "output_type": "stream",
       "stream": "stdout",
       "text": [
        "\n",
        "        Language\n",
        "        Meeting Acronym"
       ]
      },
      {
       "output_type": "stream",
       "stream": "stdout",
       "text": [
        "\n",
        "        Programme/Subject Matter\n",
        "        Name or title\n",
        "        Web Published"
       ]
      },
      {
       "output_type": "stream",
       "stream": "stdout",
       "text": [
        "\n",
        "        Document Status\n",
        "        Date Start"
       ]
      },
      {
       "output_type": "stream",
       "stream": "stdout",
       "text": [
        "\n",
        "        Date End\n",
        "        Created\n",
        "        Created by"
       ]
      },
      {
       "output_type": "stream",
       "stream": "stdout",
       "text": [
        "\n",
        "        Last modified\n",
        "        Last modified by"
       ]
      },
      {
       "output_type": "stream",
       "stream": "stdout",
       "text": [
        "\n",
        "        Status changed\n",
        "        Object changed"
       ]
      },
      {
       "output_type": "stream",
       "stream": "stdout",
       "text": [
        "\n",
        "        Single file\n",
        "        Class groups\n",
        "        Size on server (this version)"
       ]
      },
      {
       "output_type": "stream",
       "stream": "stdout",
       "text": [
        "\n",
        "        Size on server (all versions)\n",
        "        Marked for archiving"
       ]
      },
      {
       "output_type": "stream",
       "stream": "stdout",
       "text": [
        "\n",
        "    Meeting Reports\n",
        "        Additional classes\n",
        "        Name or title\n",
        "        UN-number"
       ]
      },
      {
       "output_type": "stream",
       "stream": "stdout",
       "text": [
        "\n",
        "        Title\n",
        "        Description\n",
        "        Language"
       ]
      },
      {
       "output_type": "stream",
       "stream": "stdout",
       "text": [
        "\n",
        "        Meeting Acronym\n",
        "        Programme/Subject Matter\n",
        "        Web Published"
       ]
      },
      {
       "output_type": "stream",
       "stream": "stdout",
       "text": [
        "\n",
        "        Document Status\n",
        "        Created"
       ]
      },
      {
       "output_type": "stream",
       "stream": "stdout",
       "text": [
        "\n",
        "        Created by\n",
        "        Last modified"
       ]
      },
      {
       "output_type": "stream",
       "stream": "stdout",
       "text": [
        "\n",
        "        Last modified by\n",
        "        Status changed\n",
        "        Object changed"
       ]
      },
      {
       "output_type": "stream",
       "stream": "stdout",
       "text": [
        "\n",
        "        Single file\n",
        "        Class groups\n",
        "        Size on server (this version)"
       ]
      },
      {
       "output_type": "stream",
       "stream": "stdout",
       "text": [
        "\n",
        "        Size on server (all versions)\n",
        "        Marked for archiving"
       ]
      },
      {
       "output_type": "stream",
       "stream": "stdout",
       "text": [
        "\n",
        "    MoUs and Agreements\n",
        "        Additional classes\n",
        "        UN-number\n",
        "        Name or title"
       ]
      },
      {
       "output_type": "stream",
       "stream": "stdout",
       "text": [
        "\n",
        "        Title\n",
        "        Short description (in English)\n",
        "        Player"
       ]
      },
      {
       "output_type": "stream",
       "stream": "stdout",
       "text": [
        "\n",
        "        Language\n",
        "        Programme/Subject Matter\n",
        "        Created"
       ]
      },
      {
       "output_type": "stream",
       "stream": "stdout",
       "text": [
        "\n",
        "        Created by\n",
        "        Last modified"
       ]
      },
      {
       "output_type": "stream",
       "stream": "stdout",
       "text": [
        "\n",
        "        Last modified by\n",
        "        Status changed\n",
        "        Object changed"
       ]
      },
      {
       "output_type": "stream",
       "stream": "stdout",
       "text": [
        "\n",
        "        Single file\n",
        "        Class groups\n",
        "        Size on server (this version)"
       ]
      },
      {
       "output_type": "stream",
       "stream": "stdout",
       "text": [
        "\n",
        "        Size on server (all versions)\n",
        "        Marked for archiving"
       ]
      },
      {
       "output_type": "stream",
       "stream": "stdout",
       "text": [
        "\n",
        "    Newsletters\n",
        "        Additional classes\n",
        "        Title\n",
        "        Name or title"
       ]
      },
      {
       "output_type": "stream",
       "stream": "stdout",
       "text": [
        "\n",
        "        UN-number\n",
        "        Programme/Subject Matter"
       ]
      },
      {
       "output_type": "stream",
       "stream": "stdout",
       "text": [
        "\n",
        "        Language\n",
        "        Keywords\n",
        "        Keyphrases"
       ]
      },
      {
       "output_type": "stream",
       "stream": "stdout",
       "text": [
        "\n",
        "        PublicationDate-Year\n",
        "        PublicationDate-Month"
       ]
      },
      {
       "output_type": "stream",
       "stream": "stdout",
       "text": [
        "\n",
        "        Web Published\n",
        "        Document Status\n",
        "        Description"
       ]
      },
      {
       "output_type": "stream",
       "stream": "stdout",
       "text": [
        "\n",
        "        Short description (in English)\n",
        "        Abstract/Summary"
       ]
      },
      {
       "output_type": "stream",
       "stream": "stdout",
       "text": [
        "\n",
        "        PublicationDateDisplay\n",
        "        Section/Volume/Number\n",
        "        SectionVolNum-TITLE"
       ]
      },
      {
       "output_type": "stream",
       "stream": "stdout",
       "text": [
        "\n",
        "        Publisher\n",
        "        Corporate Author\n",
        "        Target Audience"
       ]
      },
      {
       "output_type": "stream",
       "stream": "stdout",
       "text": [
        "\n",
        "        Created\n",
        "        Created by"
       ]
      },
      {
       "output_type": "stream",
       "stream": "stdout",
       "text": [
        "\n",
        "        Last modified\n",
        "        Last modified by\n",
        "        Status changed"
       ]
      },
      {
       "output_type": "stream",
       "stream": "stdout",
       "text": [
        "\n",
        "        Object changed\n",
        "        Single file\n",
        "        Class groups"
       ]
      },
      {
       "output_type": "stream",
       "stream": "stdout",
       "text": [
        "\n",
        "        Size on server (this version)\n",
        "        Size on server (all versions)"
       ]
      },
      {
       "output_type": "stream",
       "stream": "stdout",
       "text": [
        "\n",
        "        Marked for archiving\n",
        "    Nominations\n",
        "        Additional classes\n",
        "        Name or title"
       ]
      },
      {
       "output_type": "stream",
       "stream": "stdout",
       "text": [
        "\n",
        "        UN-number\n",
        "        Title"
       ]
      },
      {
       "output_type": "stream",
       "stream": "stdout",
       "text": [
        "\n",
        "        Short description (in English)\n",
        "        Comments\n",
        "        Language"
       ]
      },
      {
       "output_type": "stream",
       "stream": "stdout",
       "text": [
        "\n",
        "        Meeting Acronym\n",
        "        Player\n",
        "        Programme/Subject Matter"
       ]
      },
      {
       "output_type": "stream",
       "stream": "stdout",
       "text": [
        "\n",
        "        Traditional folder\n",
        "        Date of correspondence"
       ]
      },
      {
       "output_type": "stream",
       "stream": "stdout",
       "text": [
        "\n",
        "        TransmissionDate\n",
        "        TransmissionDeadline\n",
        "        Web Published"
       ]
      },
      {
       "output_type": "stream",
       "stream": "stdout",
       "text": [
        "\n",
        "        Related to document (ID)\n",
        "        Document Status\n",
        "        Created"
       ]
      },
      {
       "output_type": "stream",
       "stream": "stdout",
       "text": [
        "\n",
        "        Created by\n",
        "        Last modified\n",
        "        Last modified by"
       ]
      },
      {
       "output_type": "stream",
       "stream": "stdout",
       "text": [
        "\n",
        "        Status changed\n",
        "        Object changed\n",
        "        Single file"
       ]
      },
      {
       "output_type": "stream",
       "stream": "stdout",
       "text": [
        "\n",
        "        Class groups\n",
        "        Size on server (this version)"
       ]
      },
      {
       "output_type": "stream",
       "stream": "stdout",
       "text": [
        "\n",
        "        Size on server (all versions)\n",
        "        Marked for archiving\n",
        "    Notifications\n",
        "        Additional classes"
       ]
      },
      {
       "output_type": "stream",
       "stream": "stdout",
       "text": [
        "\n",
        "        Name or title\n",
        "        UN-number"
       ]
      },
      {
       "output_type": "stream",
       "stream": "stdout",
       "text": [
        "\n",
        "        Title\n",
        "        Description\n",
        "        Chemical"
       ]
      },
      {
       "output_type": "stream",
       "stream": "stdout",
       "text": [
        "\n",
        "        Player\n",
        "        TransmissionDate"
       ]
      },
      {
       "output_type": "stream",
       "stream": "stdout",
       "text": [
        "\n",
        "        Date Issuance-Signature\n",
        "        Language\n",
        "        Programme/Subject Matter"
       ]
      },
      {
       "output_type": "stream",
       "stream": "stdout",
       "text": [
        "\n",
        "        Web Published\n",
        "        Keyphrases\n",
        "        Keywords"
       ]
      },
      {
       "output_type": "stream",
       "stream": "stdout",
       "text": [
        "\n",
        "        Related to document (ID)\n",
        "        Short description (in English)"
       ]
      },
      {
       "output_type": "stream",
       "stream": "stdout",
       "text": [
        "\n",
        "        Created\n",
        "        Created by\n",
        "        Last modified"
       ]
      },
      {
       "output_type": "stream",
       "stream": "stdout",
       "text": [
        "\n",
        "        Last modified by\n",
        "        Status changed\n",
        "        Object changed"
       ]
      },
      {
       "output_type": "stream",
       "stream": "stdout",
       "text": [
        "\n",
        "        Single file\n",
        "        Class groups"
       ]
      },
      {
       "output_type": "stream",
       "stream": "stdout",
       "text": [
        "\n",
        "        Size on server (this version)\n",
        "        Size on server (all versions)\n",
        "        Marked for archiving"
       ]
      },
      {
       "output_type": "stream",
       "stream": "stdout",
       "text": [
        "\n",
        "    Other Document\n",
        "        Name or title\n",
        "        Created"
       ]
      },
      {
       "output_type": "stream",
       "stream": "stdout",
       "text": [
        "\n",
        "        Created by\n",
        "        Last modified\n",
        "        Last modified by"
       ]
      },
      {
       "output_type": "stream",
       "stream": "stdout",
       "text": [
        "\n",
        "        Status changed\n",
        "        Object changed\n",
        "        Single file"
       ]
      },
      {
       "output_type": "stream",
       "stream": "stdout",
       "text": [
        "\n",
        "        Class groups\n",
        "        Size on server (this version)"
       ]
      },
      {
       "output_type": "stream",
       "stream": "stdout",
       "text": [
        "\n",
        "        Size on server (all versions)\n",
        "        Marked for archiving\n",
        "    Photos\n",
        "        Additional classes"
       ]
      },
      {
       "output_type": "stream",
       "stream": "stdout",
       "text": [
        "\n",
        "        Name or title\n",
        "        Title"
       ]
      },
      {
       "output_type": "stream",
       "stream": "stdout",
       "text": [
        "\n",
        "        Programme/Subject Matter\n",
        "        Short description (in English)\n",
        "        Meeting Acronym"
       ]
      },
      {
       "output_type": "stream",
       "stream": "stdout",
       "text": [
        "\n",
        "        Chemical\n",
        "        Web Published"
       ]
      },
      {
       "output_type": "stream",
       "stream": "stdout",
       "text": [
        "\n",
        "        Location\n",
        "        Photo Geo Position [Latitude;Longitude]\n",
        "        Photo Date taken"
       ]
      },
      {
       "output_type": "stream",
       "stream": "stdout",
       "text": [
        "\n",
        "        Player\n",
        "        Corporate Author\n",
        "        Photo-Object"
       ]
      },
      {
       "output_type": "stream",
       "stream": "stdout",
       "text": [
        "\n",
        "        Photo-Scene\n",
        "        Keywords"
       ]
      },
      {
       "output_type": "stream",
       "stream": "stdout",
       "text": [
        "\n",
        "        Photo Credits/Source\n",
        "        Created\n",
        "        Created by"
       ]
      },
      {
       "output_type": "stream",
       "stream": "stdout",
       "text": [
        "\n",
        "        Last modified\n",
        "        Last modified by"
       ]
      },
      {
       "output_type": "stream",
       "stream": "stdout",
       "text": [
        "\n",
        "        Status changed\n",
        "        Object changed\n",
        "        Single file"
       ]
      },
      {
       "output_type": "stream",
       "stream": "stdout",
       "text": [
        "\n",
        "        Class groups\n",
        "        Size on server (this version)\n",
        "        Size on server (all versions)"
       ]
      },
      {
       "output_type": "stream",
       "stream": "stdout",
       "text": [
        "\n",
        "        Marked for archiving\n",
        "    Practical Information (for participants)\n",
        "        Additional classes"
       ]
      },
      {
       "output_type": "stream",
       "stream": "stdout",
       "text": [
        "\n",
        "        Title\n",
        "        Name or title\n",
        "        UN-number"
       ]
      },
      {
       "output_type": "stream",
       "stream": "stdout",
       "text": [
        "\n",
        "        Description\n",
        "        Language"
       ]
      },
      {
       "output_type": "stream",
       "stream": "stdout",
       "text": [
        "\n",
        "        Meeting Acronym\n",
        "        Web Published\n",
        "        Document Status"
       ]
      },
      {
       "output_type": "stream",
       "stream": "stdout",
       "text": [
        "\n",
        "        Created\n",
        "        Created by\n",
        "        Last modified"
       ]
      },
      {
       "output_type": "stream",
       "stream": "stdout",
       "text": [
        "\n",
        "        Last modified by\n",
        "        Status changed"
       ]
      },
      {
       "output_type": "stream",
       "stream": "stdout",
       "text": [
        "\n",
        "        Object changed\n",
        "        Single file\n",
        "        Class groups"
       ]
      },
      {
       "output_type": "stream",
       "stream": "stdout",
       "text": [
        "\n",
        "        Size on server (this version)\n",
        "        Size on server (all versions)\n",
        "        Marked for archiving"
       ]
      },
      {
       "output_type": "stream",
       "stream": "stdout",
       "text": [
        "\n",
        "    Presentations\n",
        "        Additional classes\n",
        "        Name or title\n",
        "        UN-number"
       ]
      },
      {
       "output_type": "stream",
       "stream": "stdout",
       "text": [
        "\n",
        "        Title\n",
        "        Short description (in English)"
       ]
      },
      {
       "output_type": "stream",
       "stream": "stdout",
       "text": [
        "\n",
        "        Description\n",
        "        Language\n",
        "        Meeting Acronym"
       ]
      },
      {
       "output_type": "stream",
       "stream": "stdout",
       "text": [
        "\n",
        "        Programme/Subject Matter\n",
        "        Player\n",
        "        Corporate Author"
       ]
      },
      {
       "output_type": "stream",
       "stream": "stdout",
       "text": [
        "\n",
        "        Web Published\n",
        "        Document Status\n",
        "        Comments"
       ]
      },
      {
       "output_type": "stream",
       "stream": "stdout",
       "text": [
        "\n",
        "        Created\n",
        "        Created by"
       ]
      },
      {
       "output_type": "stream",
       "stream": "stdout",
       "text": [
        "\n",
        "        Last modified\n",
        "        Last modified by"
       ]
      },
      {
       "output_type": "stream",
       "stream": "stdout",
       "text": [
        "\n",
        "        Status changed\n",
        "        Object changed\n",
        "        Single file"
       ]
      },
      {
       "output_type": "stream",
       "stream": "stdout",
       "text": [
        "\n",
        "        Class groups\n",
        "        Size on server (this version)\n",
        "        Size on server (all versions)"
       ]
      },
      {
       "output_type": "stream",
       "stream": "stdout",
       "text": [
        "\n",
        "        Marked for archiving\n",
        "    Press Releases\n",
        "        Additional classes"
       ]
      },
      {
       "output_type": "stream",
       "stream": "stdout",
       "text": [
        "\n",
        "        Name or title\n",
        "        UN-number\n",
        "        Title"
       ]
      },
      {
       "output_type": "stream",
       "stream": "stdout",
       "text": [
        "\n",
        "        Date Issuance-Signature\n",
        "        Short description (in English)"
       ]
      },
      {
       "output_type": "stream",
       "stream": "stdout",
       "text": [
        "\n",
        "        Description\n",
        "        Language\n",
        "        Programme/Subject Matter"
       ]
      },
      {
       "output_type": "stream",
       "stream": "stdout",
       "text": [
        "\n",
        "        Player\n",
        "        Keywords\n",
        "        Meeting Acronym"
       ]
      },
      {
       "output_type": "stream",
       "stream": "stdout",
       "text": [
        "\n",
        "        Web Published\n",
        "        Document Status"
       ]
      },
      {
       "output_type": "stream",
       "stream": "stdout",
       "text": [
        "\n",
        "        Keyphrases\n",
        "        Corporate Author\n",
        "        Chemical"
       ]
      },
      {
       "output_type": "stream",
       "stream": "stdout",
       "text": [
        "\n",
        "        Created\n",
        "        Created by\n",
        "        Last modified"
       ]
      },
      {
       "output_type": "stream",
       "stream": "stdout",
       "text": [
        "\n",
        "        Last modified by\n",
        "        Status changed"
       ]
      },
      {
       "output_type": "stream",
       "stream": "stdout",
       "text": [
        "\n",
        "        Object changed\n",
        "        Single file\n",
        "        Class groups"
       ]
      },
      {
       "output_type": "stream",
       "stream": "stdout",
       "text": [
        "\n",
        "        Size on server (this version)\n",
        "        Size on server (all versions)"
       ]
      },
      {
       "output_type": "stream",
       "stream": "stdout",
       "text": [
        "\n",
        "        Marked for archiving\n",
        "    Procedures\n",
        "        Additional classes\n",
        "        Name or title"
       ]
      },
      {
       "output_type": "stream",
       "stream": "stdout",
       "text": [
        "\n",
        "        UN-number\n",
        "        Title"
       ]
      },
      {
       "output_type": "stream",
       "stream": "stdout",
       "text": [
        "\n",
        "        Short description (in English)\n",
        "        Language\n",
        "        Programme/Subject Matter"
       ]
      },
      {
       "output_type": "stream",
       "stream": "stdout",
       "text": [
        "\n",
        "        Date Issuance-Signature\n",
        "        Keyphrases"
       ]
      },
      {
       "output_type": "stream",
       "stream": "stdout",
       "text": [
        "\n",
        "        Document Status\n",
        "        Web Published\n",
        "        Traditional folder"
       ]
      },
      {
       "output_type": "stream",
       "stream": "stdout",
       "text": [
        "\n",
        "        Created\n",
        "        Created by"
       ]
      },
      {
       "output_type": "stream",
       "stream": "stdout",
       "text": [
        "\n",
        "        Last modified\n",
        "        Last modified by\n",
        "        Status changed"
       ]
      },
      {
       "output_type": "stream",
       "stream": "stdout",
       "text": [
        "\n",
        "        Object changed\n",
        "        Single file\n",
        "        Class groups"
       ]
      },
      {
       "output_type": "stream",
       "stream": "stdout",
       "text": [
        "\n",
        "        Size on server (this version)\n",
        "        Size on server (all versions)"
       ]
      },
      {
       "output_type": "stream",
       "stream": "stdout",
       "text": [
        "\n",
        "        Marked for archiving\n",
        "    Proceedings\n",
        "        Additional classes\n",
        "        Name or title"
       ]
      },
      {
       "output_type": "stream",
       "stream": "stdout",
       "text": [
        "\n",
        "        UN-number\n",
        "        Title"
       ]
      },
      {
       "output_type": "stream",
       "stream": "stdout",
       "text": [
        "\n",
        "        Short description (in English)\n",
        "        Description\n",
        "        Abstract/Summary"
       ]
      },
      {
       "output_type": "stream",
       "stream": "stdout",
       "text": [
        "\n",
        "        Player\n",
        "        Programme/Subject Matter"
       ]
      },
      {
       "output_type": "stream",
       "stream": "stdout",
       "text": [
        "\n",
        "        Keyphrases\n",
        "        Keywords\n",
        "        Language"
       ]
      },
      {
       "output_type": "stream",
       "stream": "stdout",
       "text": [
        "\n",
        "        Web Published\n",
        "        Corporate Author\n",
        "        Document Status"
       ]
      },
      {
       "output_type": "stream",
       "stream": "stdout",
       "text": [
        "\n",
        "        Traditional folder\n",
        "        Meeting Acronym"
       ]
      },
      {
       "output_type": "stream",
       "stream": "stdout",
       "text": [
        "\n",
        "        Created\n",
        "        Created by\n",
        "        Last modified"
       ]
      },
      {
       "output_type": "stream",
       "stream": "stdout",
       "text": [
        "\n",
        "        Last modified by\n",
        "        Status changed\n",
        "        Object changed"
       ]
      },
      {
       "output_type": "stream",
       "stream": "stdout",
       "text": [
        "\n",
        "        Single file\n",
        "        Class groups"
       ]
      },
      {
       "output_type": "stream",
       "stream": "stdout",
       "text": [
        "\n",
        "        Size on server (this version)\n",
        "        Size on server (all versions)\n",
        "        Marked for archiving"
       ]
      },
      {
       "output_type": "stream",
       "stream": "stdout",
       "text": [
        "\n",
        "    Promotional Material (Awareness Raising)\n",
        "        Additional classes\n",
        "        Name or title"
       ]
      },
      {
       "output_type": "stream",
       "stream": "stdout",
       "text": [
        "\n",
        "        UN-number\n",
        "        Title\n",
        "        Description"
       ]
      },
      {
       "output_type": "stream",
       "stream": "stdout",
       "text": [
        "\n",
        "        Publication Symbol\n",
        "        Keyphrases\n",
        "        Keywords"
       ]
      },
      {
       "output_type": "stream",
       "stream": "stdout",
       "text": [
        "\n",
        "        Language\n",
        "        Programme/Subject Matter"
       ]
      },
      {
       "output_type": "stream",
       "stream": "stdout",
       "text": [
        "\n",
        "        Web Published\n",
        "        Traditional folder\n",
        "        Created"
       ]
      },
      {
       "output_type": "stream",
       "stream": "stdout",
       "text": [
        "\n",
        "        Created by\n",
        "        Last modified"
       ]
      },
      {
       "output_type": "stream",
       "stream": "stdout",
       "text": [
        "\n",
        "        Last modified by\n",
        "        Status changed\n",
        "        Object changed"
       ]
      },
      {
       "output_type": "stream",
       "stream": "stdout",
       "text": [
        "\n",
        "        Single file\n",
        "        Class groups\n",
        "        Size on server (this version)"
       ]
      },
      {
       "output_type": "stream",
       "stream": "stdout",
       "text": [
        "\n",
        "        Size on server (all versions)\n",
        "        Marked for archiving"
       ]
      },
      {
       "output_type": "stream",
       "stream": "stdout",
       "text": [
        "\n",
        "    Proposals\n",
        "        Additional classes\n",
        "        Name or title\n",
        "        UN-number"
       ]
      },
      {
       "output_type": "stream",
       "stream": "stdout",
       "text": [
        "\n",
        "        Title\n",
        "        Description"
       ]
      },
      {
       "output_type": "stream",
       "stream": "stdout",
       "text": [
        "\n",
        "        Short description (in English)\n",
        "        Chemical\n",
        "        TransmissionDate"
       ]
      },
      {
       "output_type": "stream",
       "stream": "stdout",
       "text": [
        "\n",
        "        Player\n",
        "        Programme/Subject Matter\n",
        "        Language"
       ]
      },
      {
       "output_type": "stream",
       "stream": "stdout",
       "text": [
        "\n",
        "        Document Status\n",
        "        Web Published"
       ]
      },
      {
       "output_type": "stream",
       "stream": "stdout",
       "text": [
        "\n",
        "        Comments\n",
        "        Keyphrases\n",
        "        Keywords"
       ]
      },
      {
       "output_type": "stream",
       "stream": "stdout",
       "text": [
        "\n",
        "        Traditional folder\n",
        "        Created"
       ]
      },
      {
       "output_type": "stream",
       "stream": "stdout",
       "text": [
        "\n",
        "        Created by\n",
        "        Last modified\n",
        "        Last modified by"
       ]
      },
      {
       "output_type": "stream",
       "stream": "stdout",
       "text": [
        "\n",
        "        Status changed\n",
        "        Object changed"
       ]
      },
      {
       "output_type": "stream",
       "stream": "stdout",
       "text": [
        "\n",
        "        Single file\n",
        "        Class groups\n",
        "        Size on server (this version)"
       ]
      },
      {
       "output_type": "stream",
       "stream": "stdout",
       "text": [
        "\n",
        "        Size on server (all versions)\n",
        "        Marked for archiving\n",
        "    Publications\n",
        "        Additional classes"
       ]
      },
      {
       "output_type": "stream",
       "stream": "stdout",
       "text": [
        "\n",
        "        Name or title\n",
        "        UN-number"
       ]
      },
      {
       "output_type": "stream",
       "stream": "stdout",
       "text": [
        "\n",
        "        Publication Symbol\n",
        "        Title\n",
        "        Section/Volume/Number"
       ]
      },
      {
       "output_type": "stream",
       "stream": "stdout",
       "text": [
        "\n",
        "        SectionVolNum-TITLE\n",
        "        Article-Title\n",
        "        Description"
       ]
      },
      {
       "output_type": "stream",
       "stream": "stdout",
       "text": [
        "\n",
        "        Abstract/Summary\n",
        "        Short description (in English)"
       ]
      },
      {
       "output_type": "stream",
       "stream": "stdout",
       "text": [
        "\n",
        "        Language\n",
        "        Programme/Subject Matter\n",
        "        Corporate Author"
       ]
      },
      {
       "output_type": "stream",
       "stream": "stdout",
       "text": [
        "\n",
        "        Author(s)\n",
        "        Publisher"
       ]
      },
      {
       "output_type": "stream",
       "stream": "stdout",
       "text": [
        "\n",
        "        Publication Format\n",
        "        Term-ScientificTechnicalPublications\n",
        "        Keywords"
       ]
      },
      {
       "output_type": "stream",
       "stream": "stdout",
       "text": [
        "\n",
        "        Document Status\n",
        "        Web Published\n",
        "        Target Audience"
       ]
      },
      {
       "output_type": "stream",
       "stream": "stdout",
       "text": [
        "\n",
        "        Chemical\n",
        "        Pages (number of)"
       ]
      },
      {
       "output_type": "stream",
       "stream": "stdout",
       "text": [
        "\n",
        "        Pages (from - to)\n",
        "        PublicationDate-Year\n",
        "        PublicationDate-Month"
       ]
      },
      {
       "output_type": "stream",
       "stream": "stdout",
       "text": [
        "\n",
        "        PublicationDateDisplay\n",
        "        Created\n",
        "        Created by"
       ]
      },
      {
       "output_type": "stream",
       "stream": "stdout",
       "text": [
        "\n",
        "        Last modified\n",
        "        Last modified by"
       ]
      },
      {
       "output_type": "stream",
       "stream": "stdout",
       "text": [
        "\n",
        "        Status changed\n",
        "        Object changed\n",
        "        Single file"
       ]
      },
      {
       "output_type": "stream",
       "stream": "stdout",
       "text": [
        "\n",
        "        Class groups\n",
        "        Size on server (this version)"
       ]
      },
      {
       "output_type": "stream",
       "stream": "stdout",
       "text": [
        "\n",
        "        Size on server (all versions)\n",
        "        Marked for archiving"
       ]
      },
      {
       "output_type": "stream",
       "stream": "stdout",
       "text": [
        "\n",
        "    Related Documents\n",
        "        Additional classes\n",
        "        Name or title"
       ]
      },
      {
       "output_type": "stream",
       "stream": "stdout",
       "text": [
        "\n",
        "        UN-number\n",
        "        Title"
       ]
      },
      {
       "output_type": "stream",
       "stream": "stdout",
       "text": [
        "\n",
        "        Description\n",
        "        Language\n",
        "        Meeting Acronym"
       ]
      },
      {
       "output_type": "stream",
       "stream": "stdout",
       "text": [
        "\n",
        "        Programme/Subject Matter\n",
        "        Web Published\n",
        "        Created"
       ]
      },
      {
       "output_type": "stream",
       "stream": "stdout",
       "text": [
        "\n",
        "        Created by\n",
        "        Last modified\n",
        "        Last modified by"
       ]
      },
      {
       "output_type": "stream",
       "stream": "stdout",
       "text": [
        "\n",
        "        Status changed\n",
        "        Object changed"
       ]
      },
      {
       "output_type": "stream",
       "stream": "stdout",
       "text": [
        "\n",
        "        Single file\n",
        "        Class groups\n",
        "        Size on server (this version)"
       ]
      },
      {
       "output_type": "stream",
       "stream": "stdout",
       "text": [
        "\n",
        "        Size on server (all versions)\n",
        "        Marked for archiving\n",
        "    Report\n",
        "        Name or title"
       ]
      },
      {
       "output_type": "stream",
       "stream": "stdout",
       "text": [
        "\n",
        "        Report URL\n",
        "        Created\n",
        "        Created by"
       ]
      },
      {
       "output_type": "stream",
       "stream": "stdout",
       "text": [
        "\n",
        "        Last modified\n",
        "        Last modified by"
       ]
      },
      {
       "output_type": "stream",
       "stream": "stdout",
       "text": [
        "\n",
        "        Status changed\n",
        "        Object changed\n",
        "        Single file"
       ]
      },
      {
       "output_type": "stream",
       "stream": "stdout",
       "text": [
        "\n",
        "        Class groups\n",
        "        Size on server (this version)\n",
        "        Size on server (all versions)"
       ]
      },
      {
       "output_type": "stream",
       "stream": "stdout",
       "text": [
        "\n",
        "        Marked for archiving\n",
        "    Reports\n",
        "        Additional classes"
       ]
      },
      {
       "output_type": "stream",
       "stream": "stdout",
       "text": [
        "\n",
        "        Name or title\n",
        "        UN-number\n",
        "        Title"
       ]
      },
      {
       "output_type": "stream",
       "stream": "stdout",
       "text": [
        "\n",
        "        Short description (in English)\n",
        "        Description"
       ]
      },
      {
       "output_type": "stream",
       "stream": "stdout",
       "text": [
        "\n",
        "        Programme/Subject Matter\n",
        "        Language\n",
        "        Player"
       ]
      },
      {
       "output_type": "stream",
       "stream": "stdout",
       "text": [
        "\n",
        "        Region\n",
        "        Period (Biennium or Year)\n",
        "        Web Published"
       ]
      },
      {
       "output_type": "stream",
       "stream": "stdout",
       "text": [
        "\n",
        "        Corporate Author\n",
        "        Document Status"
       ]
      },
      {
       "output_type": "stream",
       "stream": "stdout",
       "text": [
        "\n",
        "        Traditional folder\n",
        "        Created\n",
        "        Created by"
       ]
      },
      {
       "output_type": "stream",
       "stream": "stdout",
       "text": [
        "\n",
        "        Last modified\n",
        "        Last modified by"
       ]
      },
      {
       "output_type": "stream",
       "stream": "stdout",
       "text": [
        "\n",
        "        Status changed\n",
        "        Object changed\n",
        "        Single file"
       ]
      },
      {
       "output_type": "stream",
       "stream": "stdout",
       "text": [
        "\n",
        "        Class groups\n",
        "        Size on server (this version)\n",
        "        Size on server (all versions)"
       ]
      },
      {
       "output_type": "stream",
       "stream": "stdout",
       "text": [
        "\n",
        "        Marked for archiving\n",
        "    Requests\n",
        "        Additional classes"
       ]
      },
      {
       "output_type": "stream",
       "stream": "stdout",
       "text": [
        "\n",
        "        Name or title\n",
        "        UN-number\n",
        "        Title"
       ]
      },
      {
       "output_type": "stream",
       "stream": "stdout",
       "text": [
        "\n",
        "        Chemical\n",
        "        Date of correspondence"
       ]
      },
      {
       "output_type": "stream",
       "stream": "stdout",
       "text": [
        "\n",
        "        TransmissionDate\n",
        "        Player\n",
        "        Programme/Subject Matter"
       ]
      },
      {
       "output_type": "stream",
       "stream": "stdout",
       "text": [
        "\n",
        "        Language\n",
        "        Document Status\n",
        "        Keywords"
       ]
      },
      {
       "output_type": "stream",
       "stream": "stdout",
       "text": [
        "\n",
        "        Meeting Acronym\n",
        "        Traditional folder"
       ]
      },
      {
       "output_type": "stream",
       "stream": "stdout",
       "text": [
        "\n",
        "        Web Published\n",
        "        Comments\n",
        "        Created"
       ]
      },
      {
       "output_type": "stream",
       "stream": "stdout",
       "text": [
        "\n",
        "        Created by\n",
        "        Last modified"
       ]
      },
      {
       "output_type": "stream",
       "stream": "stdout",
       "text": [
        "\n",
        "        Last modified by\n",
        "        Status changed\n",
        "        Object changed"
       ]
      },
      {
       "output_type": "stream",
       "stream": "stdout",
       "text": [
        "\n",
        "        Single file\n",
        "        Class groups\n",
        "        Size on server (this version)"
       ]
      },
      {
       "output_type": "stream",
       "stream": "stdout",
       "text": [
        "\n",
        "        Size on server (all versions)\n",
        "        Marked for archiving"
       ]
      },
      {
       "output_type": "stream",
       "stream": "stdout",
       "text": [
        "\n",
        "    Speeches and Statements\n",
        "        Additional classes\n",
        "        Name or title\n",
        "        UN-number"
       ]
      },
      {
       "output_type": "stream",
       "stream": "stdout",
       "text": [
        "\n",
        "        Title\n",
        "        Date Issuance-Signature\n",
        "        Venue (city, country)"
       ]
      },
      {
       "output_type": "stream",
       "stream": "stdout",
       "text": [
        "\n",
        "        Short description (in English)\n",
        "        Language"
       ]
      },
      {
       "output_type": "stream",
       "stream": "stdout",
       "text": [
        "\n",
        "        Meeting Acronym\n",
        "        Programme/Subject Matter\n",
        "        Player"
       ]
      },
      {
       "output_type": "stream",
       "stream": "stdout",
       "text": [
        "\n",
        "        Keywords\n",
        "        Keyphrases\n",
        "        Web Published"
       ]
      },
      {
       "output_type": "stream",
       "stream": "stdout",
       "text": [
        "\n",
        "        Created\n",
        "        Created by"
       ]
      },
      {
       "output_type": "stream",
       "stream": "stdout",
       "text": [
        "\n",
        "        Last modified\n",
        "        Last modified by\n",
        "        Status changed"
       ]
      },
      {
       "output_type": "stream",
       "stream": "stdout",
       "text": [
        "\n",
        "        Object changed\n",
        "        Single file"
       ]
      },
      {
       "output_type": "stream",
       "stream": "stdout",
       "text": [
        "\n",
        "        Class groups\n",
        "        Size on server (this version)\n",
        "        Size on server (all versions)"
       ]
      },
      {
       "output_type": "stream",
       "stream": "stdout",
       "text": [
        "\n",
        "        Marked for archiving\n",
        "    Submissions\n",
        "        Additional classes\n",
        "        Name or title"
       ]
      },
      {
       "output_type": "stream",
       "stream": "stdout",
       "text": [
        "\n",
        "        UN-number\n",
        "        Title"
       ]
      },
      {
       "output_type": "stream",
       "stream": "stdout",
       "text": [
        "\n",
        "        Description\n",
        "        Short description (in English)\n",
        "        Language"
       ]
      },
      {
       "output_type": "stream",
       "stream": "stdout",
       "text": [
        "\n",
        "        Player\n",
        "        TransmissionDate"
       ]
      },
      {
       "output_type": "stream",
       "stream": "stdout",
       "text": [
        "\n",
        "        Programme/Subject Matter\n",
        "        Document Status"
       ]
      },
      {
       "output_type": "stream",
       "stream": "stdout",
       "text": [
        "\n",
        "        Web Published\n",
        "        Chemical\n",
        "        Keywords"
       ]
      },
      {
       "output_type": "stream",
       "stream": "stdout",
       "text": [
        "\n",
        "        Keyphrases\n",
        "        Additional information"
       ]
      },
      {
       "output_type": "stream",
       "stream": "stdout",
       "text": [
        "\n",
        "        PublicationDate-Year\n",
        "        PublicationDate-Month\n",
        "        PublicationDateDisplay"
       ]
      },
      {
       "output_type": "stream",
       "stream": "stdout",
       "text": [
        "\n",
        "        Annex Endorsement/AmendmentsToAnnexes date\n",
        "        Entry into force date\n",
        "        Organization"
       ]
      },
      {
       "output_type": "stream",
       "stream": "stdout",
       "text": [
        "\n",
        "        TransmissionDeadline\n",
        "        Created"
       ]
      },
      {
       "output_type": "stream",
       "stream": "stdout",
       "text": [
        "\n",
        "        Created by\n",
        "        Last modified\n",
        "        Last modified by"
       ]
      },
      {
       "output_type": "stream",
       "stream": "stdout",
       "text": [
        "\n",
        "        Status changed\n",
        "        Object changed\n",
        "        Single file"
       ]
      },
      {
       "output_type": "stream",
       "stream": "stdout",
       "text": [
        "\n",
        "        Class groups\n",
        "        Size on server (this version)"
       ]
      },
      {
       "output_type": "stream",
       "stream": "stdout",
       "text": [
        "\n",
        "        Size on server (all versions)\n",
        "        Marked for archiving\n",
        "    Summaries and Overviews\n",
        "        Additional classes"
       ]
      },
      {
       "output_type": "stream",
       "stream": "stdout",
       "text": [
        "\n",
        "        Name or title\n",
        "        UN-number\n",
        "        Title"
       ]
      },
      {
       "output_type": "stream",
       "stream": "stdout",
       "text": [
        "\n",
        "        Description\n",
        "        Short description (in English)"
       ]
      },
      {
       "output_type": "stream",
       "stream": "stdout",
       "text": [
        "\n",
        "        Language\n",
        "        Programme/Subject Matter\n",
        "        Publication Format"
       ]
      },
      {
       "output_type": "stream",
       "stream": "stdout",
       "text": [
        "\n",
        "        Keyphrases\n",
        "        Keywords\n",
        "        Document Status"
       ]
      },
      {
       "output_type": "stream",
       "stream": "stdout",
       "text": [
        "\n",
        "        Web Published\n",
        "        Chemical"
       ]
      },
      {
       "output_type": "stream",
       "stream": "stdout",
       "text": [
        "\n",
        "        PublicationDate-Year\n",
        "        PublicationDate-Month\n",
        "        PublicationDateDisplay"
       ]
      },
      {
       "output_type": "stream",
       "stream": "stdout",
       "text": [
        "\n",
        "        Created\n",
        "        Created by"
       ]
      },
      {
       "output_type": "stream",
       "stream": "stdout",
       "text": [
        "\n",
        "        Last modified\n",
        "        Last modified by\n",
        "        Status changed"
       ]
      },
      {
       "output_type": "stream",
       "stream": "stdout",
       "text": [
        "\n",
        "        Object changed\n",
        "        Single file"
       ]
      },
      {
       "output_type": "stream",
       "stream": "stdout",
       "text": [
        "\n",
        "        Class groups\n",
        "        Size on server (this version)\n",
        "        Size on server (all versions)"
       ]
      },
      {
       "output_type": "stream",
       "stream": "stdout",
       "text": [
        "\n",
        "        Marked for archiving\n",
        "    Surveys\n",
        "        Additional classes\n",
        "        Name or title"
       ]
      },
      {
       "output_type": "stream",
       "stream": "stdout",
       "text": [
        "\n",
        "        UN-number\n",
        "        Title\n",
        "        Description"
       ]
      },
      {
       "output_type": "stream",
       "stream": "stdout",
       "text": [
        "\n",
        "        Short description (in English)\n",
        "        Chemical"
       ]
      },
      {
       "output_type": "stream",
       "stream": "stdout",
       "text": [
        "\n",
        "        Keyphrases\n",
        "        Keywords\n",
        "        Language"
       ]
      },
      {
       "output_type": "stream",
       "stream": "stdout",
       "text": [
        "\n",
        "        Programme/Subject Matter\n",
        "        Player\n",
        "        Web Published"
       ]
      },
      {
       "output_type": "stream",
       "stream": "stdout",
       "text": [
        "\n",
        "        Created\n",
        "        Created by"
       ]
      },
      {
       "output_type": "stream",
       "stream": "stdout",
       "text": [
        "\n",
        "        Last modified\n",
        "        Last modified by\n",
        "        Status changed"
       ]
      },
      {
       "output_type": "stream",
       "stream": "stdout",
       "text": [
        "\n",
        "        Object changed\n",
        "        Single file"
       ]
      },
      {
       "output_type": "stream",
       "stream": "stdout",
       "text": [
        "\n",
        "        Class groups\n",
        "        Size on server (this version)\n",
        "        Size on server (all versions)"
       ]
      },
      {
       "output_type": "stream",
       "stream": "stdout",
       "text": [
        "\n",
        "        Marked for archiving\n",
        "    TORs (Terms of Reference)\n",
        "        Additional classes"
       ]
      },
      {
       "output_type": "stream",
       "stream": "stdout",
       "text": [
        "\n",
        "        Name or title\n",
        "        Title\n",
        "        UN-number"
       ]
      },
      {
       "output_type": "stream",
       "stream": "stdout",
       "text": [
        "\n",
        "        Description\n",
        "        Short description (in English)\n",
        "        Programme/Subject Matter"
       ]
      },
      {
       "output_type": "stream",
       "stream": "stdout",
       "text": [
        "\n",
        "        Language\n",
        "        Web Published"
       ]
      },
      {
       "output_type": "stream",
       "stream": "stdout",
       "text": [
        "\n",
        "        Keywords\n",
        "        Document Status\n",
        "        Created"
       ]
      },
      {
       "output_type": "stream",
       "stream": "stdout",
       "text": [
        "\n",
        "        Created by\n",
        "        Last modified"
       ]
      },
      {
       "output_type": "stream",
       "stream": "stdout",
       "text": [
        "\n",
        "        Last modified by\n",
        "        Status changed\n",
        "        Object changed"
       ]
      },
      {
       "output_type": "stream",
       "stream": "stdout",
       "text": [
        "\n",
        "        Single file\n",
        "        Class groups\n",
        "        Size on server (this version)"
       ]
      },
      {
       "output_type": "stream",
       "stream": "stdout",
       "text": [
        "\n",
        "        Size on server (all versions)\n",
        "        Marked for archiving"
       ]
      },
      {
       "output_type": "stream",
       "stream": "stdout",
       "text": [
        "\n",
        "    Training and Educational Material\n",
        "        Additional classes\n",
        "        Title"
       ]
      },
      {
       "output_type": "stream",
       "stream": "stdout",
       "text": [
        "\n",
        "        Description\n",
        "        Language\n",
        "        Name or title"
       ]
      },
      {
       "output_type": "stream",
       "stream": "stdout",
       "text": [
        "\n",
        "        UN-number\n",
        "        Programme/Subject Matter\n",
        "        Meeting Acronym"
       ]
      },
      {
       "output_type": "stream",
       "stream": "stdout",
       "text": [
        "\n",
        "        Corporate Author\n",
        "        Web Published"
       ]
      },
      {
       "output_type": "stream",
       "stream": "stdout",
       "text": [
        "\n",
        "        Created\n",
        "        Created by\n",
        "        Last modified"
       ]
      },
      {
       "output_type": "stream",
       "stream": "stdout",
       "text": [
        "\n",
        "        Last modified by\n",
        "        Status changed\n",
        "        Object changed"
       ]
      },
      {
       "output_type": "stream",
       "stream": "stdout",
       "text": [
        "\n",
        "        Single file\n",
        "        Class groups"
       ]
      },
      {
       "output_type": "stream",
       "stream": "stdout",
       "text": [
        "\n",
        "        Size on server (this version)\n",
        "        Size on server (all versions)\n",
        "        Marked for archiving"
       ]
      },
      {
       "output_type": "stream",
       "stream": "stdout",
       "text": [
        "\n",
        "    Unclassified Document\n",
        "        Name or title\n",
        "        Created"
       ]
      },
      {
       "output_type": "stream",
       "stream": "stdout",
       "text": [
        "\n",
        "        Created by\n",
        "        Last modified\n",
        "        Last modified by"
       ]
      },
      {
       "output_type": "stream",
       "stream": "stdout",
       "text": [
        "\n",
        "        Status changed\n",
        "        Object changed\n",
        "        Single file"
       ]
      },
      {
       "output_type": "stream",
       "stream": "stdout",
       "text": [
        "\n",
        "        Class groups\n",
        "        Size on server (this version)"
       ]
      },
      {
       "output_type": "stream",
       "stream": "stdout",
       "text": [
        "\n",
        "        Size on server (all versions)\n",
        "        Marked for archiving\n",
        "    Working Documents (Action Documents)\n",
        "        Additional classes"
       ]
      },
      {
       "output_type": "stream",
       "stream": "stdout",
       "text": [
        "\n",
        "        Name or title\n",
        "        UN-number\n",
        "        Title"
       ]
      },
      {
       "output_type": "stream",
       "stream": "stdout",
       "text": [
        "\n",
        "        Description\n",
        "        Language"
       ]
      },
      {
       "output_type": "stream",
       "stream": "stdout",
       "text": [
        "\n",
        "        Meeting Acronym\n",
        "        Programme/Subject Matter\n",
        "        Web Published"
       ]
      },
      {
       "output_type": "stream",
       "stream": "stdout",
       "text": [
        "\n",
        "        Traditional folder\n",
        "        Created"
       ]
      },
      {
       "output_type": "stream",
       "stream": "stdout",
       "text": [
        "\n",
        "        Created by\n",
        "        Last modified\n",
        "        Last modified by"
       ]
      },
      {
       "output_type": "stream",
       "stream": "stdout",
       "text": [
        "\n",
        "        Status changed\n",
        "        Object changed"
       ]
      },
      {
       "output_type": "stream",
       "stream": "stdout",
       "text": [
        "\n",
        "        Single file\n",
        "        Class groups\n",
        "        Size on server (this version)"
       ]
      },
      {
       "output_type": "stream",
       "stream": "stdout",
       "text": [
        "\n",
        "        Size on server (all versions)\n",
        "        Marked for archiving"
       ]
      },
      {
       "output_type": "stream",
       "stream": "stdout",
       "text": [
        "\n",
        "    Workplans\n",
        "        Additional classes\n",
        "        Name or title"
       ]
      },
      {
       "output_type": "stream",
       "stream": "stdout",
       "text": [
        "\n",
        "        Title\n",
        "        Short description (in English)\n",
        "        UN-number"
       ]
      },
      {
       "output_type": "stream",
       "stream": "stdout",
       "text": [
        "\n",
        "        Language\n",
        "        Programme/Subject Matter\n",
        "        Player"
       ]
      },
      {
       "output_type": "stream",
       "stream": "stdout",
       "text": [
        "\n",
        "        Region\n",
        "        Period (Biennium or Year)"
       ]
      },
      {
       "output_type": "stream",
       "stream": "stdout",
       "text": [
        "\n",
        "        Web Published\n",
        "        Traditional folder\n",
        "        Document Status"
       ]
      },
      {
       "output_type": "stream",
       "stream": "stdout",
       "text": [
        "\n",
        "        Created\n",
        "        Created by\n",
        "        Last modified"
       ]
      },
      {
       "output_type": "stream",
       "stream": "stdout",
       "text": [
        "\n",
        "        Last modified by\n",
        "        Status changed"
       ]
      },
      {
       "output_type": "stream",
       "stream": "stdout",
       "text": [
        "\n",
        "        Object changed\n",
        "        Single file\n",
        "        Class groups"
       ]
      },
      {
       "output_type": "stream",
       "stream": "stdout",
       "text": [
        "\n",
        "        Size on server (this version)\n",
        "        Size on server (all versions)"
       ]
      },
      {
       "output_type": "stream",
       "stream": "stdout",
       "text": [
        "\n",
        "        Marked for archiving\n",
        "********************************************************************************"
       ]
      },
      {
       "output_type": "stream",
       "stream": "stdout",
       "text": [
        "\n",
        "Rotterdam\n",
        "    Acknowledments"
       ]
      },
      {
       "output_type": "stream",
       "stream": "stdout",
       "text": [
        "\n",
        "        Additional classes\n",
        "        Name or title\n",
        "        Player.Sender"
       ]
      },
      {
       "output_type": "stream",
       "stream": "stdout",
       "text": [
        "\n",
        "        Project\n",
        "        DNA request\n",
        "        Purpose"
       ]
      },
      {
       "output_type": "stream",
       "stream": "stdout",
       "text": [
        "\n",
        "        Owner (Class)\n",
        "        Status\n",
        "        SetDNA"
       ]
      },
      {
       "output_type": "stream",
       "stream": "stdout",
       "text": [
        "\n",
        "        Owner (Class group)\n",
        "        Created\n",
        "        Created by"
       ]
      },
      {
       "output_type": "stream",
       "stream": "stdout",
       "text": [
        "\n",
        "        Last modified\n",
        "        Last modified by\n",
        "        Status changed"
       ]
      },
      {
       "output_type": "stream",
       "stream": "stdout",
       "text": [
        "\n",
        "        Object changed\n",
        "        Single file\n",
        "        Class groups"
       ]
      },
      {
       "output_type": "stream",
       "stream": "stdout",
       "text": [
        "\n",
        "        Size on Server (this version)\n",
        "        Size on Server (all versions)\n",
        "        Marked for Archiving"
       ]
      },
      {
       "output_type": "stream",
       "stream": "stdout",
       "text": [
        "\n",
        "    Action plans, Business plans, Strategic plans\n",
        "        Additional classes\n",
        "        Name or title\n",
        "        Player.Sender"
       ]
      },
      {
       "output_type": "stream",
       "stream": "stdout",
       "text": [
        "\n",
        "        PIC Region\n"
       ]
      },
      {
       "ename": "com_error",
       "evalue": "(-2147352567, 'Exception occurred.', (0, 'M-Files 9.0.3372.6', \"Unknown property definition '1021'.\\r\\n\\r\\nCoVaultPropertyDefOperations.cpp, 181, Unknown property definition '1021'. (0x80040073)\\r\\nServerVaultPropertyDefOperationsHelper.cpp, 90, Unknown property definition '1021'. (0x80040073)\\r\\nRPCPropertyDefs.cpp, 150, Unknown property definition '1021'. (0x80040073)\\r\\nRPCPropertyDefsHelper.cpp, 3724, Unknown property definition '1021'. (0x80040073)\\r\\n(M-Files 9.0.3372.6)\\r\\n\\r\\n(0035)\", None, 0, -2147221503), None)",
       "output_type": "pyerr",
       "traceback": [
        "\u001b[1;31m---------------------------------------------------------------------------\u001b[0m\n\u001b[1;31mcom_error\u001b[0m                                 Traceback (most recent call last)",
        "\u001b[1;32m<ipython-input-6-ec1129e49202>\u001b[0m in \u001b[0;36m<module>\u001b[1;34m()\u001b[0m\n\u001b[0;32m      6\u001b[0m         \u001b[0mprint\u001b[0m\u001b[1;33m(\u001b[0m\u001b[1;34m\" \"\u001b[0m \u001b[1;33m*\u001b[0m \u001b[1;36m4\u001b[0m \u001b[1;33m+\u001b[0m \u001b[0mcl\u001b[0m\u001b[1;33m.\u001b[0m\u001b[0mName\u001b[0m\u001b[1;33m)\u001b[0m\u001b[1;33m\u001b[0m\u001b[0m\n\u001b[0;32m      7\u001b[0m         \u001b[1;32mfor\u001b[0m \u001b[0mprop_id\u001b[0m \u001b[1;32min\u001b[0m \u001b[0mcl\u001b[0m\u001b[1;33m.\u001b[0m\u001b[0mAssociatedPropertyDefs\u001b[0m\u001b[1;33m:\u001b[0m\u001b[1;33m\u001b[0m\u001b[0m\n\u001b[1;32m----> 8\u001b[1;33m             \u001b[0mprop\u001b[0m \u001b[1;33m=\u001b[0m \u001b[0mvault\u001b[0m\u001b[1;33m.\u001b[0m\u001b[0mPropertyDefOperations\u001b[0m\u001b[1;33m.\u001b[0m\u001b[0mGetPropertyDef\u001b[0m\u001b[1;33m(\u001b[0m\u001b[0mprop_id\u001b[0m\u001b[1;33m.\u001b[0m\u001b[0mPropertyDef\u001b[0m\u001b[1;33m)\u001b[0m\u001b[1;33m\u001b[0m\u001b[0m\n\u001b[0m\u001b[0;32m      9\u001b[0m             \u001b[0mprint\u001b[0m\u001b[1;33m(\u001b[0m\u001b[1;34m\" \"\u001b[0m \u001b[1;33m*\u001b[0m \u001b[1;36m8\u001b[0m \u001b[1;33m+\u001b[0m \u001b[0mstr\u001b[0m\u001b[1;33m(\u001b[0m\u001b[0mprop\u001b[0m\u001b[1;33m.\u001b[0m\u001b[0mName\u001b[0m\u001b[1;33m)\u001b[0m\u001b[1;33m)\u001b[0m\u001b[1;33m\u001b[0m\u001b[0m\n",
        "\u001b[1;32mC:\\Users\\ALEXAN~1\\AppData\\Local\\Temp\\gen_py\\3.4\\B9C079AA-92DD-4FB4-A0E0-AA3198955B45x0x1x0.py\u001b[0m in \u001b[0;36mGetPropertyDef\u001b[1;34m(self, PropertyDef)\u001b[0m\n\u001b[0;32m  12564\u001b[0m         \u001b[1;32mdef\u001b[0m \u001b[0mGetPropertyDef\u001b[0m\u001b[1;33m(\u001b[0m\u001b[0mself\u001b[0m\u001b[1;33m,\u001b[0m \u001b[0mPropertyDef\u001b[0m\u001b[1;33m=\u001b[0m\u001b[0mdefaultNamedNotOptArg\u001b[0m\u001b[1;33m)\u001b[0m\u001b[1;33m:\u001b[0m\u001b[1;33m\u001b[0m\u001b[0m\n\u001b[0;32m  12565\u001b[0m                 \u001b[1;34m'Gets the specified property definition from the vault.'\u001b[0m\u001b[1;33m\u001b[0m\u001b[0m\n\u001b[1;32m> 12566\u001b[1;33m \t\tret = self._oleobj_.InvokeTypes(2, LCID, 1, (9, 0), ((3, 1),),PropertyDef\n\u001b[0m\u001b[0;32m  12567\u001b[0m \t\t\t)\n\u001b[0;32m  12568\u001b[0m                 \u001b[1;32mif\u001b[0m \u001b[0mret\u001b[0m \u001b[1;32mis\u001b[0m \u001b[1;32mnot\u001b[0m \u001b[1;32mNone\u001b[0m\u001b[1;33m:\u001b[0m\u001b[1;33m\u001b[0m\u001b[0m\n",
        "\u001b[1;31mcom_error\u001b[0m: (-2147352567, 'Exception occurred.', (0, 'M-Files 9.0.3372.6', \"Unknown property definition '1021'.\\r\\n\\r\\nCoVaultPropertyDefOperations.cpp, 181, Unknown property definition '1021'. (0x80040073)\\r\\nServerVaultPropertyDefOperationsHelper.cpp, 90, Unknown property definition '1021'. (0x80040073)\\r\\nRPCPropertyDefs.cpp, 150, Unknown property definition '1021'. (0x80040073)\\r\\nRPCPropertyDefsHelper.cpp, 3724, Unknown property definition '1021'. (0x80040073)\\r\\n(M-Files 9.0.3372.6)\\r\\n\\r\\n(0035)\", None, 0, -2147221503), None)"
       ]
      }
     ],
     "prompt_number": 6
    }
   ],
   "metadata": {}
  }
 ]
}